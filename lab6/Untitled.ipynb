{
 "cells": [
  {
   "cell_type": "markdown",
   "metadata": {},
   "source": [
    "1."
   ]
  },
  {
   "cell_type": "code",
   "execution_count": 284,
   "metadata": {},
   "outputs": [
    {
     "data": {
      "text/plain": [
       "<Figure size 864x504 with 0 Axes>"
      ]
     },
     "execution_count": 284,
     "metadata": {},
     "output_type": "execute_result"
    },
    {
     "data": {
      "text/plain": [
       "<Figure size 864x504 with 0 Axes>"
      ]
     },
     "metadata": {},
     "output_type": "display_data"
    }
   ],
   "source": [
    "import numpy as np\n",
    "from matplotlib import pyplot as plt\n",
    "import mpmath as mp\n",
    "plt.figure(figsize=(12,7))"
   ]
  },
  {
   "cell_type": "code",
   "execution_count": 285,
   "metadata": {},
   "outputs": [],
   "source": [
    "euler=2.71828182845904523536028747135266249775724709369995\n",
    "def f1(x):\n",
    "    return (mp.cos(x)*mp.cosh(x))-1\n",
    "def df1(x):\n",
    "    return (mp.cos(x)*mp.sinh(x))-(mp.cosh(x)*mp.sin(x))\n",
    "def f2(x):\n",
    "    return (1/x)-mp.tan(x)\n",
    "def df2(x):\n",
    "    return -(1/(mp.cos(x)**2))-1/(x**2)\n",
    "def f3(x):\n",
    "    return (1/(2**x))+(euler**x)+(2*mp.cos(x))-6\n",
    "def df3(x):\n",
    "    return -2*mp.sin(x)+(e**x)-(mp.log(2)/(2**x))"
   ]
  },
  {
   "cell_type": "code",
   "execution_count": 328,
   "metadata": {},
   "outputs": [],
   "source": [
    "def bisection(e,a,b,abs_error,f,values=False):\n",
    "#     function return root, number of iterations and values to compare conv\n",
    "#     ergence if values=True\n",
    "    mp.dps=e\n",
    "    if f(a)*f(b)>0:\n",
    "        print('method fails')\n",
    "        return None\n",
    "    N=int(np.log((b-a)/abs_error)/np.log(2))+1\n",
    "    a_n=a\n",
    "    b_n=b\n",
    "    m=0\n",
    "    vals=[]\n",
    "#     print(values)\n",
    "    for i in range(N):\n",
    "        m=(a_n+b_n)/2\n",
    "        fm=f(m)\n",
    "        vals.append((i,m))\n",
    "        if f(a_n)*fm<0:\n",
    "            a_n=a_n\n",
    "            b_n=m\n",
    "        elif f(b_n)*fm<0:\n",
    "            a_n=m\n",
    "            b_n=b_n\n",
    "        elif fm==0:\n",
    "#             print(vals)\n",
    "            return m,i,vals if values==True else m,i\n",
    "        else:\n",
    "            print('method failed')\n",
    "            return None\n",
    "    return m,N,vals if values==True else m,N"
   ]
  },
  {
   "cell_type": "markdown",
   "metadata": {},
   "source": [
    "f1 plot"
   ]
  },
  {
   "cell_type": "code",
   "execution_count": 287,
   "metadata": {},
   "outputs": [
    {
     "data": {
      "text/plain": [
       "[<matplotlib.lines.Line2D at 0x7f9394041a30>]"
      ]
     },
     "execution_count": 287,
     "metadata": {},
     "output_type": "execute_result"
    },
    {
     "data": {
      "image/png": "[encoded data removed]",
      "text/plain": [
       "<Figure size 432x288 with 1 Axes>"
      ]
     },
     "metadata": {
      "needs_background": "light"
     },
     "output_type": "display_data"
    }
   ],
   "source": [
    "x=np.linspace((3/2)*np.pi,2*np.pi,100)\n",
    "y1=[f1(p) for p in x]\n",
    "plt.plot(x,y1)"
   ]
  },
  {
   "cell_type": "markdown",
   "metadata": {},
   "source": [
    "f2 plot"
   ]
  },
  {
   "cell_type": "code",
   "execution_count": 288,
   "metadata": {},
   "outputs": [
    {
     "data": {
      "text/plain": [
       "[<matplotlib.lines.Line2D at 0x7f9393c6bbe0>]"
      ]
     },
     "execution_count": 288,
     "metadata": {},
     "output_type": "execute_result"
    },
    {
     "data": {
      "image/png": "[encoded data removed]",
      "text/plain": [
       "<Figure size 432x288 with 1 Axes>"
      ]
     },
     "metadata": {
      "needs_background": "light"
     },
     "output_type": "display_data"
    }
   ],
   "source": [
    "x=np.linspace(0.001,0.5*np.pi-0.001,10000)\n",
    "y2=[f2(p) for p in x]\n",
    "plt.plot(x,y2)"
   ]
  },
  {
   "cell_type": "markdown",
   "metadata": {},
   "source": [
    "f3 plot"
   ]
  },
  {
   "cell_type": "code",
   "execution_count": 289,
   "metadata": {},
   "outputs": [
    {
     "data": {
      "text/plain": [
       "[<matplotlib.lines.Line2D at 0x7f9393bd8670>]"
      ]
     },
     "execution_count": 289,
     "metadata": {},
     "output_type": "execute_result"
    },
    {
     "data": {
      "image/png": "[encoded data removed]",
      "text/plain": [
       "<Figure size 432x288 with 1 Axes>"
      ]
     },
     "metadata": {
      "needs_background": "light"
     },
     "output_type": "display_data"
    }
   ],
   "source": [
    "x=np.linspace(1,3,100)\n",
    "y3=[f3(p) for p in x]\n",
    "plt.plot(x,y3)"
   ]
  },
  {
   "cell_type": "raw",
   "metadata": {},
   "source": [
    "To find first k nonnegative roots I propose following algorithm:\n",
    "    -choose interval [0,x]\n",
    "    -find some root in it let say m \n",
    "    -divide it to [0,m),(m,x]\n",
    "    -search for roots in this two intervals etc. (we divide each interval recursivelly if we found root in it)\n",
    "    if we didn't found enough roots in interval [0,x] we move to [x,2x[ etc."
   ]
  },
  {
   "cell_type": "markdown",
   "metadata": {},
   "source": [
    "Number of iterations needed to reach 10^-7,10^-15,10^-33 error for f1 function"
   ]
  },
  {
   "cell_type": "code",
   "execution_count": 211,
   "metadata": {},
   "outputs": [
    {
     "name": "stdout",
     "output_type": "stream",
     "text": [
      "110\n",
      "(4.730040744862704, 110, 4.730040744862704, 110)\n"
     ]
    }
   ],
   "source": [
    "print(bisection(5,(3/2)*np.pi,2*np.pi,10**-33,f1))"
   ]
  },
  {
   "cell_type": "code",
   "execution_count": 210,
   "metadata": {},
   "outputs": [
    {
     "name": "stdout",
     "output_type": "stream",
     "text": [
      "50\n",
      "(4.7300407448627055, 50, 4.7300407448627055, 50)\n"
     ]
    }
   ],
   "source": [
    "print(bisection(5,(3/2)*np.pi,2*np.pi,10**-15,f1))"
   ]
  },
  {
   "cell_type": "code",
   "execution_count": 209,
   "metadata": {},
   "outputs": [
    {
     "name": "stdout",
     "output_type": "stream",
     "text": [
      "23\n",
      "(4.730040807402709, 23, 4.730040807402709, 23)\n"
     ]
    }
   ],
   "source": [
    "print(bisection(5,(3/2)*np.pi,2*np.pi,10**-7,f1))"
   ]
  },
  {
   "cell_type": "markdown",
   "metadata": {},
   "source": [
    "Number of iterations needed to reach 10^-7,10^-15,10^-33 error for f2 function"
   ]
  },
  {
   "cell_type": "code",
   "execution_count": 216,
   "metadata": {},
   "outputs": [
    {
     "name": "stdout",
     "output_type": "stream",
     "text": [
      "23\n",
      "(0.8603334623942822, 23, 0.8603334623942822, 23)\n"
     ]
    }
   ],
   "source": [
    "print(bisection(5,.000000001,np.pi/2,10**-7,f2))"
   ]
  },
  {
   "cell_type": "code",
   "execution_count": 215,
   "metadata": {},
   "outputs": [
    {
     "name": "stdout",
     "output_type": "stream",
     "text": [
      "50\n",
      "(0.8603335890193793, 50, 0.8603335890193793, 50)\n"
     ]
    }
   ],
   "source": [
    "print(bisection(5,.000000001,np.pi/2,10**-15,f2))"
   ]
  },
  {
   "cell_type": "code",
   "execution_count": 214,
   "metadata": {},
   "outputs": [
    {
     "name": "stdout",
     "output_type": "stream",
     "text": [
      "110\n",
      "(0.8603335890193797, 52, 0.8603335890193797, 52)\n"
     ]
    }
   ],
   "source": [
    "print(bisection(5,.000000001,np.pi/2,10**-33,f2))"
   ]
  },
  {
   "cell_type": "markdown",
   "metadata": {},
   "source": [
    "Number of iterations needed to reach 10^-7,10^-15,10^-33 error for f3 function"
   ]
  },
  {
   "cell_type": "code",
   "execution_count": 217,
   "metadata": {},
   "outputs": [
    {
     "name": "stdout",
     "output_type": "stream",
     "text": [
      "24\n",
      "(1.8293834924697876, 24, 1.8293834924697876, 24)\n"
     ]
    }
   ],
   "source": [
    "print(bisection(5,1,3,10**-7,f3))"
   ]
  },
  {
   "cell_type": "code",
   "execution_count": 218,
   "metadata": {},
   "outputs": [
    {
     "name": "stdout",
     "output_type": "stream",
     "text": [
      "50\n",
      "(1.8293836019338503, 50, 1.8293836019338503, 50)\n"
     ]
    }
   ],
   "source": [
    "print(bisection(5,1,3,10**-15,f3))"
   ]
  },
  {
   "cell_type": "code",
   "execution_count": 219,
   "metadata": {},
   "outputs": [
    {
     "name": "stdout",
     "output_type": "stream",
     "text": [
      "110\n",
      "(1.829383601933849, 51, 1.829383601933849, 51)\n"
     ]
    }
   ],
   "source": [
    "print(bisection(5,1,3,10**-33,f3))"
   ]
  },
  {
   "cell_type": "markdown",
   "metadata": {},
   "source": [
    "zadanie 2"
   ]
  },
  {
   "cell_type": "code",
   "execution_count": 318,
   "metadata": {},
   "outputs": [],
   "source": [
    "def newton(f,df,x0,e,N):\n",
    "#     function returns root and number of iterations needed\n",
    "    xn=x0\n",
    "    mp.dps=100\n",
    "    for n in range(N):\n",
    "        fxn=f(xn)\n",
    "#         print(fxn,e)\n",
    "        if abs(fxn)<e:\n",
    "            return (xn,n)\n",
    "        dfxn=df(xn)\n",
    "        if dfxn==0:\n",
    "            print('ERROR')\n",
    "            return None\n",
    "        xn=xn-fxn/dfxn\n",
    "    return (xn,N)"
   ]
  },
  {
   "cell_type": "code",
   "execution_count": 319,
   "metadata": {},
   "outputs": [
    {
     "name": "stdout",
     "output_type": "stream",
     "text": [
      "(mpf('4.7300407448627038'), 5)\n"
     ]
    }
   ],
   "source": [
    "print(newton(f1,df1,4.5,10**(-8),100))"
   ]
  },
  {
   "cell_type": "code",
   "execution_count": 517,
   "metadata": {},
   "outputs": [],
   "source": [
    "def plot_convergence(f,f_a,f_b,df,start_pos):\n",
    "#     plot values of function in newton and bisect method  \n",
    "#     newton\n",
    "    x=[i for i in range(100)]\n",
    "    y=[newton(f,df,start_pos,10**-33,i)[0] for i in range(100)]\n",
    "    plt.plot(x,y)\n",
    "#     bisection\n",
    "    x1=bisection(100,f_a,f_b,10**-33,f,values=True)[2]\n",
    "    y1=[x[1] for x in x1]\n",
    "    x1=[x[0] for x in x1]\n",
    "    plt.plot(x1,y1)"
   ]
  },
  {
   "cell_type": "markdown",
   "metadata": {},
   "source": [
    "zbieżność"
   ]
  },
  {
   "cell_type": "code",
   "execution_count": 518,
   "metadata": {},
   "outputs": [
    {
     "data": {
      "image/png": "[encoded data removed]",
      "text/plain": [
       "<Figure size 432x288 with 1 Axes>"
      ]
     },
     "metadata": {
      "needs_background": "light"
     },
     "output_type": "display_data"
    }
   ],
   "source": [
    "plot_convergence(f1,1.5*np.pi,2*np.pi,df1,4.5)"
   ]
  },
  {
   "cell_type": "markdown",
   "metadata": {},
   "source": [
    "zbieżność"
   ]
  },
  {
   "cell_type": "code",
   "execution_count": 261,
   "metadata": {},
   "outputs": [
    {
     "name": "stdout",
     "output_type": "stream",
     "text": [
      "110\n"
     ]
    },
    {
     "data": {
      "image/png": "[encoded data removed]",
      "text/plain": [
       "<Figure size 432x288 with 1 Axes>"
      ]
     },
     "metadata": {
      "needs_background": "light"
     },
     "output_type": "display_data"
    }
   ],
   "source": [
    "plot_convergence(f2,0.000001,np.pi/2,df2,1)"
   ]
  },
  {
   "cell_type": "markdown",
   "metadata": {},
   "source": [
    "zbieżność"
   ]
  },
  {
   "cell_type": "code",
   "execution_count": 263,
   "metadata": {},
   "outputs": [
    {
     "name": "stdout",
     "output_type": "stream",
     "text": [
      "110\n"
     ]
    },
    {
     "data": {
      "image/png": "[encoded data removed]",
      "text/plain": [
       "<Figure size 432x288 with 1 Axes>"
      ]
     },
     "metadata": {
      "needs_background": "light"
     },
     "output_type": "display_data"
    }
   ],
   "source": [
    "plot_convergence(f3,1,3,df3,2)"
   ]
  },
  {
   "cell_type": "markdown",
   "metadata": {},
   "source": [
    "metoda newtona (niebieska łamana) jest szybciej zbieżna"
   ]
  },
  {
   "cell_type": "code",
   "execution_count": 508,
   "metadata": {},
   "outputs": [],
   "source": [
    "def sections(e,a,b,abs_err,f,N,values=False):\n",
    "    if f(a)*f(b)>0:\n",
    "        print('method fails')\n",
    "        return None\n",
    "    fa=f(a)\n",
    "    fb=f(b)\n",
    "    vals=[]\n",
    "    for i in range(2,N):\n",
    "        if np.abs(fa)>np.abs(fb):\n",
    "            a,b=b,a\n",
    "            fa,fb=fb,fa\n",
    "        s=(b-a)/(fb-fa)\n",
    "        b=a\n",
    "        fb=fa\n",
    "        a=a-fa*s\n",
    "        fa=f(a)\n",
    "        vals.append((i,a))\n",
    "        if np.abs(fa)<abs_err or np.abs(b-a)<abs_err:\n",
    "            break\n",
    "    return a,vals[len(vals)-1][0],vals"
   ]
  },
  {
   "cell_type": "code",
   "execution_count": 509,
   "metadata": {},
   "outputs": [
    {
     "name": "stdout",
     "output_type": "stream",
     "text": [
      "0.86033358901938\n"
     ]
    }
   ],
   "source": [
    "print(sections(100,0.000001,np.pi*0.5-0.001,10**-17,f2,100,values=False)[0])"
   ]
  },
  {
   "cell_type": "markdown",
   "metadata": {},
   "source": [
    "zbiezność"
   ]
  },
  {
   "cell_type": "code",
   "execution_count": 510,
   "metadata": {},
   "outputs": [],
   "source": [
    "def plot_convergence3(f,f_a,f_b,df,start_pos):\n",
    "#     plot values of function in newton and bisect method  \n",
    "#     newton\n",
    "    x=[i for i in range(100)]\n",
    "    y=[newton(f,df,start_pos,10**-33,i)[0] for i in range(100)]\n",
    "    plt.plot(x,y)\n",
    "#     bisection\n",
    "    x1=bisection(100,f_a,f_b,10**-33,f,values=True)[2]\n",
    "    y1=[x[1] for x in x1]\n",
    "    x1=[x[0] for x in x1]\n",
    "    plt.plot(x1,y1)\n",
    "# section\n",
    "    x2=sections(100,f_a,f_b,10**-33,f,100,values=True)[2]\n",
    "    y2=[x[1] for x in x2]\n",
    "    x2=[x[0] for x in x2]\n",
    "    plt.plot(x2,y2)"
   ]
  },
  {
   "cell_type": "code",
   "execution_count": 511,
   "metadata": {},
   "outputs": [
    {
     "data": {
      "image/png": "[encoded data removed]",
      "text/plain": [
       "<Figure size 432x288 with 1 Axes>"
      ]
     },
     "metadata": {
      "needs_background": "light"
     },
     "output_type": "display_data"
    }
   ],
   "source": [
    "plot_convergence3(f1,1.5*np.pi,2*np.pi,df1,4.5)"
   ]
  },
  {
   "cell_type": "code",
   "execution_count": 520,
   "metadata": {},
   "outputs": [
    {
     "data": {
      "image/png": "[encoded data removed]",
      "text/plain": [
       "<Figure size 432x288 with 1 Axes>"
      ]
     },
     "metadata": {
      "needs_background": "light"
     },
     "output_type": "display_data"
    }
   ],
   "source": [
    "plot_convergence3(f2,0.001,np.pi/2,df2,1)"
   ]
  },
  {
   "cell_type": "code",
   "execution_count": 513,
   "metadata": {},
   "outputs": [
    {
     "data": {
      "image/png": "[encoded data removed]",
      "text/plain": [
       "<Figure size 432x288 with 1 Axes>"
      ]
     },
     "metadata": {
      "needs_background": "light"
     },
     "output_type": "display_data"
    }
   ],
   "source": [
    "plot_convergence3(f3,1,3,df3,2)"
   ]
  }
 ],
 "metadata": {
  "kernelspec": {
   "display_name": "Python 3",
   "language": "python",
   "name": "python3"
  },
  "language_info": {
   "codemirror_mode": {
    "name": "ipython",
    "version": 3
   },
   "file_extension": ".py",
   "mimetype": "text/x-python",
   "name": "python",
   "nbconvert_exporter": "python",
   "pygments_lexer": "ipython3",
   "version": "3.8.5"
  }
 },
 "nbformat": 4,
 "nbformat_minor": 4
}
