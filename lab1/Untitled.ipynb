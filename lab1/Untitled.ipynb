{
 "cells": [
  {
   "cell_type": "markdown",
   "metadata": {},
   "source": [
    "# MOWNiT laboratorium 1 Piotr Pawłowski\n"
   ]
  },
  {
   "cell_type": "markdown",
   "metadata": {},
   "source": [
    "zad.1"
   ]
  },
  {
   "cell_type": "markdown",
   "metadata": {},
   "source": [
    "1.1"
   ]
  },
  {
   "cell_type": "code",
   "execution_count": 3,
   "metadata": {},
   "outputs": [],
   "source": [
    "import numpy as np\n",
    "import matplotlib.pyplot as plt\n",
    "def my_sum(array,step=False):\n",
    "    s=np.single(0)\n",
    "    steps=[0.0]\n",
    "    for i in range(10**7):\n",
    "        s+=arr[i]\n",
    "        if step==True and i%25000==0 and i!=0:\n",
    "            corr_s=np.single(i*0.2345)\n",
    "            steps.append(np.single(np.absolute((corr_s-s)/corr_s)))\n",
    "    return s,steps"
   ]
  },
  {
   "cell_type": "code",
   "execution_count": 4,
   "metadata": {},
   "outputs": [],
   "source": [
    "arr=np.full(10**7,0.2345,np.single)"
   ]
  },
  {
   "cell_type": "markdown",
   "metadata": {},
   "source": [
    "1.2 Błąd bezwzlędny:"
   ]
  },
  {
   "cell_type": "code",
   "execution_count": 254,
   "metadata": {},
   "outputs": [],
   "source": [
    "s=my_sum(arr)[0]"
   ]
  },
  {
   "cell_type": "code",
   "execution_count": 128,
   "metadata": {},
   "outputs": [
    {
     "data": {
      "text/plain": [
       "-137527.0"
      ]
     },
     "execution_count": 128,
     "metadata": {},
     "output_type": "execute_result"
    }
   ],
   "source": [
    "np.single(2345000.0)-s"
   ]
  },
  {
   "cell_type": "markdown",
   "metadata": {},
   "source": [
    "Błąd względny:"
   ]
  },
  {
   "cell_type": "code",
   "execution_count": 130,
   "metadata": {},
   "outputs": [
    {
     "data": {
      "text/plain": [
       "-5.539798736572266"
      ]
     },
     "execution_count": 130,
     "metadata": {},
     "output_type": "execute_result"
    }
   ],
   "source": [
    "((np.single(2345000.0)-s)/s)*100"
   ]
  },
  {
   "cell_type": "markdown",
   "metadata": {},
   "source": [
    "Duża wartość błędu względego jest spowodowana ograniczoną precyzją składników sumy. Przy dodawaniu do dużej wartości sumy nowego składnika, możemy stracić dokładność w otrzymanej sumie, co spowodowane jest obcięciem bitów dodawanego składnika"
   ]
  },
  {
   "cell_type": "markdown",
   "metadata": {},
   "source": [
    "1.3"
   ]
  },
  {
   "cell_type": "code",
   "execution_count": 251,
   "metadata": {},
   "outputs": [
    {
     "data": {
      "text/plain": [
       "[<matplotlib.lines.Line2D at 0x7f0242021080>]"
      ]
     },
     "execution_count": 251,
     "metadata": {},
     "output_type": "execute_result"
    },
    {
     "data": {
      "image/png": "[encoded data removed]",
      "text/plain": [
       "<Figure size 432x288 with 1 Axes>"
      ]
     },
     "metadata": {
      "needs_background": "light"
     },
     "output_type": "display_data"
    }
   ],
   "source": [
    "plt.xlabel('wartosc kroku')\n",
    "plt.ylabel('wartosc bledu wzglednego')\n",
    "a=[i for i in range(0,10**7,25000)]\n",
    "plt.plot(a,my_sum(arr,step=True)[1])"
   ]
  },
  {
   "cell_type": "markdown",
   "metadata": {},
   "source": [
    "Błąd rośnie wraz ze wzrostem wartości n, co jest spowodowane akumulacją błędów."
   ]
  },
  {
   "cell_type": "markdown",
   "metadata": {},
   "source": [
    "1.4"
   ]
  },
  {
   "cell_type": "code",
   "execution_count": 133,
   "metadata": {},
   "outputs": [],
   "source": [
    "def rec_sum(left,right,arr):\n",
    "    if left==right:\n",
    "        return np.single(arr[left])\n",
    "    else:\n",
    "        return np.single(rec_sum(left,(left+right)//2,arr))+np.single(rec_sum((left+right)//2+1,right,arr))"
   ]
  },
  {
   "cell_type": "code",
   "execution_count": 134,
   "metadata": {},
   "outputs": [],
   "source": [
    "arr=np.full(10**7,0.2345,np.single)\n",
    "s=np.single(rec_sum(0,10**7-1,arr))"
   ]
  },
  {
   "cell_type": "markdown",
   "metadata": {},
   "source": [
    "1.5"
   ]
  },
  {
   "cell_type": "markdown",
   "metadata": {},
   "source": [
    "Błąd bezwzględny:"
   ]
  },
  {
   "cell_type": "code",
   "execution_count": 135,
   "metadata": {},
   "outputs": [
    {
     "data": {
      "text/plain": [
       "0.0"
      ]
     },
     "execution_count": 135,
     "metadata": {},
     "output_type": "execute_result"
    }
   ],
   "source": [
    "np.single(2345000)-s"
   ]
  },
  {
   "cell_type": "markdown",
   "metadata": {},
   "source": [
    "Błąd względny:"
   ]
  },
  {
   "cell_type": "code",
   "execution_count": 136,
   "metadata": {},
   "outputs": [
    {
     "data": {
      "text/plain": [
       "0.0"
      ]
     },
     "execution_count": 136,
     "metadata": {},
     "output_type": "execute_result"
    }
   ],
   "source": [
    "((np.single(2345000)-s)/np.single(2345000))*100"
   ]
  },
  {
   "cell_type": "markdown",
   "metadata": {},
   "source": [
    "Używając algorytmu rekurencyjnego unikamy dodawania bardzo małych wartości do duzej sumy, przez co\n",
    "unikamy błędu wspomnianego w algorytmie iteracyjnym(będziemy dodawać do siebie dwie takie same liczby)."
   ]
  },
  {
   "cell_type": "markdown",
   "metadata": {},
   "source": [
    "1.6"
   ]
  },
  {
   "cell_type": "code",
   "execution_count": 79,
   "metadata": {},
   "outputs": [
    {
     "name": "stdout",
     "output_type": "stream",
     "text": [
      "algorytm iteracyjny  1.4553568450028251\n",
      "algorytm rekurencyjny  13.098730482000974\n"
     ]
    }
   ],
   "source": [
    "from time import perf_counter\n",
    "t0=perf_counter()\n",
    "my_sum()\n",
    "t1=perf_counter()\n",
    "print('algorytm iteracyjny ',t1-t0)\n",
    "t0=perf_counter()\n",
    "rec_sum(0,10**7-1,arr)\n",
    "t1=perf_counter()\n",
    "print('algorytm rekurencyjny ',t1-t0)"
   ]
  },
  {
   "cell_type": "markdown",
   "metadata": {},
   "source": [
    "1.7 Dla tablicy wypełnionej wartością 0.2345678911 algorytm zwraca niezerowy błąd."
   ]
  },
  {
   "cell_type": "code",
   "execution_count": 137,
   "metadata": {},
   "outputs": [
    {
     "name": "stdout",
     "output_type": "stream",
     "text": [
      "wartosc otrzymana w algorytmie  2345679.0\n",
      "wartosc dokladna  2345678.911\n"
     ]
    }
   ],
   "source": [
    "arr=np.full(10**7,0.2345678911,np.single)\n",
    "s1=rec_sum(0,10**7-1,arr)\n",
    "print('wartosc otrzymana w algorytmie ',s1)\n",
    "print('wartosc dokladna ',2345678.911)"
   ]
  },
  {
   "cell_type": "markdown",
   "metadata": {},
   "source": [
    "# Zadanie 2"
   ]
  },
  {
   "cell_type": "markdown",
   "metadata": {},
   "source": [
    "#Algorytm Kahana"
   ]
  },
  {
   "cell_type": "code",
   "execution_count": 118,
   "metadata": {},
   "outputs": [],
   "source": [
    "def kahan_summation(arr):\n",
    "    s=np.single(0)\n",
    "    err=np.single(0)\n",
    "    for i in range(10**7):\n",
    "        y=np.single(arr[i]-err)\n",
    "        tmp=s+y\n",
    "        err=tmp-s-y\n",
    "        s=tmp\n",
    "    return s"
   ]
  },
  {
   "cell_type": "code",
   "execution_count": 142,
   "metadata": {},
   "outputs": [
    {
     "name": "stdout",
     "output_type": "stream",
     "text": [
      "2345000.0\n"
     ]
    }
   ],
   "source": [
    "arr=np.full(10**7,0.2345,np.single)\n",
    "s=kahan_summation(arr)\n",
    "print(s)"
   ]
  },
  {
   "cell_type": "markdown",
   "metadata": {},
   "source": [
    "2.1"
   ]
  },
  {
   "cell_type": "markdown",
   "metadata": {},
   "source": [
    "Błąd bezwzględny "
   ]
  },
  {
   "cell_type": "code",
   "execution_count": 143,
   "metadata": {},
   "outputs": [
    {
     "data": {
      "text/plain": [
       "0.0"
      ]
     },
     "execution_count": 143,
     "metadata": {},
     "output_type": "execute_result"
    }
   ],
   "source": [
    "2345000-s"
   ]
  },
  {
   "cell_type": "markdown",
   "metadata": {},
   "source": [
    "Błąd względny wynosi 0."
   ]
  },
  {
   "cell_type": "code",
   "execution_count": 145,
   "metadata": {},
   "outputs": [
    {
     "name": "stdout",
     "output_type": "stream",
     "text": [
      "2345679.0\n"
     ]
    }
   ],
   "source": [
    "arr=np.full(10**7,0.2345678911,np.single)\n",
    "s=kahan_summation(arr)\n",
    "print(s)"
   ]
  },
  {
   "cell_type": "code",
   "execution_count": 147,
   "metadata": {},
   "outputs": [
    {
     "name": "stdout",
     "output_type": "stream",
     "text": [
      "blad bezwzgledny:  -0.089\n",
      "blad wzgledny:  3.794210546285319e-08\n"
     ]
    }
   ],
   "source": [
    "print('blad bezwzgledny: ',-0.089)\n",
    "print('blad wzgledny: ',0.089/s)"
   ]
  },
  {
   "cell_type": "markdown",
   "metadata": {},
   "source": [
    "2.2"
   ]
  },
  {
   "cell_type": "markdown",
   "metadata": {},
   "source": [
    "Algorytm Kahana przechowuje o informację o straconej części dodanej liczby w zmiennej error. W każdym kroku kolejny składnik sumy jest poprawiany o błąd z poprzedniej iteracji. (W zmiennej error przechowywana jest różnica (temp-sum)-y, powinna byc ona równa 0, ale z powodu niedokładności dodawania małej liczby do dużej tracimy dokładność przy deklarowaniu temp=sum+y. Odejmowanie bliskich liczb jest dokładne, czyli (temp-sum)-y będzie różnicą pomiędzy przybliżoną wartością y a jej rzeczywistą wartością. Ta różnica zostanie zapisana w err, które zrekompensuje ten błąd w kolejnej iteracji)."
   ]
  },
  {
   "cell_type": "markdown",
   "metadata": {},
   "source": [
    "2.3\n",
    "Algorytm Kahana jest działa szybciej niż algorytm rekurencyjny dla tych samych danych wejściowych. Jest to spowodowane tym że jest on asymptotycznie liniowy, nie zaś rekurencyjny jak algorytm zapisany w funkcji rec_sum"
   ]
  },
  {
   "cell_type": "code",
   "execution_count": 149,
   "metadata": {},
   "outputs": [
    {
     "name": "stdout",
     "output_type": "stream",
     "text": [
      "algorytm kahana  6.345769712999754\n",
      "algorytm rekurencyjny  13.180945599000552\n"
     ]
    }
   ],
   "source": [
    "arr=np.full(10**7,0.2345,np.single)\n",
    "t0=perf_counter()\n",
    "kahan_summation(arr)\n",
    "t1=perf_counter()\n",
    "print('algorytm kahana ',t1-t0)\n",
    "t0=perf_counter()\n",
    "rec_sum(0,10**7-1,arr)\n",
    "t1=perf_counter()\n",
    "print('algorytm rekurencyjny ',t1-t0)"
   ]
  },
  {
   "cell_type": "markdown",
   "metadata": {},
   "source": [
    "# 3 Sumy częściowe"
   ]
  },
  {
   "cell_type": "code",
   "execution_count": 147,
   "metadata": {},
   "outputs": [],
   "source": [
    "def Riemman_function_f(direction,n,s,double_prec):\n",
    "    start=1.0\n",
    "    sum1=np.single(0.0) if double_prec==False else np.double(0.0)\n",
    "    for i in range(1,n+1):\n",
    "        sum1+=np.single(1.0/(start**s)) if double_prec==False else np.double(1.0/(start**s))\n",
    "        start+=direction\n",
    "    return sum1\n",
    "def Riemman_function_b(direction,n,s,double_prec):\n",
    "    start=np.single(n) if double_prec==False else np.double(n)\n",
    "    sum1=np.single(0.0) if double_prec==False else np.double(0.0)\n",
    "    for i in range(1,n+1):\n",
    "        sum1+=np.single(1.0/(start**s)) if double_prec==False else np.double(1.0/(start**s))\n",
    "        start-=direction\n",
    "    return sum1\n",
    "def power_unit(n):\n",
    "    return 1.0 if n%2==0 else -1.0\n",
    "def Dirichlet_function_f(direction,n,s,double_prec):\n",
    "    start=1.0\n",
    "    sum1=np.single(0.0) if double_prec==False else np.double(0.0)\n",
    "    for i in range(1,n+1):\n",
    "        sum1+=np.single(power_unit(i-1)/(start**s)) if double_prec==False else np.double(power_unit(i-1)/(start**s))\n",
    "        start+=direction\n",
    "    return sum1\n",
    "def Dirichlet_function_b(direction,n,s,double_prec):\n",
    "    start=np.single(n) if double_prec==False else np.double(n)\n",
    "    sum1=np.single(0.0) if double_prec==False else np.double(0.0)\n",
    "    for i in range(n,0,-1):\n",
    "        sum1+=np.single(power_unit(i-1)/(start**s)) if double_prec==False else np.double(power_unit(i-1)/(start**s))\n",
    "        start-=direction\n",
    "    return sum1"
   ]
  },
  {
   "cell_type": "code",
   "execution_count": 151,
   "metadata": {},
   "outputs": [
    {
     "name": "stdout",
     "output_type": "stream",
     "text": [
      "pojedyncza precyzja, suma w przod n= 50 s=  2 1.6251329\n",
      "pojedyncza precyzja, suma w tyl n= 50 s=  2 1.6251327\n",
      "podwojna precyzja, suma w przod n= 50 s=  2 1.625132733621529\n",
      "podwojna precyzja, suma w tyl n= 50 s=  2 1.6251327336215293\n",
      "pojedyncza precyzja, suma w przod n= 50 s=  3.6667 1.1093994\n",
      "pojedyncza precyzja, suma w tyl n= 50 s=  3.6667 1.1093998\n",
      "podwojna precyzja, suma w przod n= 50 s=  3.6667 1.1093997551541945\n",
      "podwojna precyzja, suma w tyl n= 50 s=  3.6667 1.1093997551541943\n",
      "pojedyncza precyzja, suma w przod n= 50 s=  5 1.0369275\n",
      "pojedyncza precyzja, suma w tyl n= 50 s=  5 1.0369277\n",
      "podwojna precyzja, suma w przod n= 50 s=  5 1.036927716716712\n",
      "podwojna precyzja, suma w tyl n= 50 s=  5 1.0369277167167108\n",
      "pojedyncza precyzja, suma w przod n= 50 s=  7.2 1.0072277\n",
      "pojedyncza precyzja, suma w tyl n= 50 s=  7.2 1.0072277\n",
      "podwojna precyzja, suma w przod n= 50 s=  7.2 1.0072276664762816\n",
      "podwojna precyzja, suma w tyl n= 50 s=  7.2 1.0072276664762823\n",
      "pojedyncza precyzja, suma w przod n= 50 s=  10 1.0009946\n",
      "pojedyncza precyzja, suma w tyl n= 50 s=  10 1.0009946\n",
      "podwojna precyzja, suma w przod n= 50 s=  10 1.0009945751278182\n",
      "podwojna precyzja, suma w tyl n= 50 s=  10 1.000994575127818\n",
      "pojedyncza precyzja, suma w przod n= 100 s=  2 1.634984\n",
      "pojedyncza precyzja, suma w tyl n= 100 s=  2 1.6349839\n",
      "podwojna precyzja, suma w przod n= 100 s=  2 1.6349839001848923\n",
      "podwojna precyzja, suma w tyl n= 100 s=  2 1.634983900184893\n",
      "pojedyncza precyzja, suma w przod n= 100 s=  3.6667 1.1094086\n",
      "pojedyncza precyzja, suma w tyl n= 100 s=  3.6667 1.1094089\n",
      "podwojna precyzja, suma w przod n= 100 s=  3.6667 1.1094087973421474\n",
      "podwojna precyzja, suma w tyl n= 100 s=  3.6667 1.1094087973421476\n",
      "pojedyncza precyzja, suma w przod n= 100 s=  5 1.0369275\n",
      "pojedyncza precyzja, suma w tyl n= 100 s=  5 1.0369277\n",
      "podwojna precyzja, suma w przod n= 100 s=  5 1.0369277526929555\n",
      "podwojna precyzja, suma w tyl n= 100 s=  5 1.0369277526929532\n",
      "pojedyncza precyzja, suma w przod n= 100 s=  7.2 1.0072277\n",
      "pojedyncza precyzja, suma w tyl n= 100 s=  7.2 1.0072277\n",
      "podwojna precyzja, suma w przod n= 100 s=  7.2 1.007227666480654\n",
      "podwojna precyzja, suma w tyl n= 100 s=  7.2 1.007227666480655\n",
      "pojedyncza precyzja, suma w przod n= 100 s=  10 1.0009946\n",
      "pojedyncza precyzja, suma w tyl n= 100 s=  10 1.0009946\n",
      "podwojna precyzja, suma w przod n= 100 s=  10 1.0009945751278182\n",
      "podwojna precyzja, suma w tyl n= 100 s=  10 1.000994575127818\n",
      "pojedyncza precyzja, suma w przod n= 200 s=  2 1.6399467\n",
      "pojedyncza precyzja, suma w tyl n= 200 s=  2 1.6399465\n",
      "podwojna precyzja, suma w przod n= 200 s=  2 1.6399465460149971\n",
      "podwojna precyzja, suma w tyl n= 200 s=  2 1.6399465460149973\n",
      "pojedyncza precyzja, suma w przod n= 200 s=  3.6667 1.1094086\n",
      "pojedyncza precyzja, suma w tyl n= 200 s=  3.6667 1.1094103\n",
      "podwojna precyzja, suma w przod n= 200 s=  3.6667 1.1094102423332313\n",
      "podwojna precyzja, suma w tyl n= 200 s=  3.6667 1.109410242333231\n",
      "pojedyncza precyzja, suma w przod n= 200 s=  5 1.0369275\n",
      "pojedyncza precyzja, suma w tyl n= 200 s=  5 1.0369277\n",
      "podwojna precyzja, suma w przod n= 200 s=  5 1.0369277549886775\n",
      "podwojna precyzja, suma w tyl n= 200 s=  5 1.036927754988676\n",
      "pojedyncza precyzja, suma w przod n= 200 s=  7.2 1.0072277\n",
      "pojedyncza precyzja, suma w tyl n= 200 s=  7.2 1.0072277\n",
      "podwojna precyzja, suma w przod n= 200 s=  7.2 1.0072276664807145\n",
      "podwojna precyzja, suma w tyl n= 200 s=  7.2 1.0072276664807163\n",
      "pojedyncza precyzja, suma w przod n= 200 s=  10 1.0009946\n",
      "pojedyncza precyzja, suma w tyl n= 200 s=  10 1.0009946\n",
      "podwojna precyzja, suma w przod n= 200 s=  10 1.0009945751278182\n",
      "podwojna precyzja, suma w tyl n= 200 s=  10 1.000994575127818\n",
      "pojedyncza precyzja, suma w przod n= 500 s=  2 1.642936\n",
      "pojedyncza precyzja, suma w tyl n= 500 s=  2 1.642936\n",
      "podwojna precyzja, suma w przod n= 500 s=  2 1.642936065514894\n",
      "podwojna precyzja, suma w tyl n= 500 s=  2 1.6429360655148941\n",
      "pojedyncza precyzja, suma w przod n= 500 s=  3.6667 1.1094086\n",
      "pojedyncza precyzja, suma w tyl n= 500 s=  3.6667 1.1094105\n",
      "podwojna precyzja, suma w przod n= 500 s=  3.6667 1.1094104908440712\n",
      "podwojna precyzja, suma w tyl n= 500 s=  3.6667 1.1094104908440725\n",
      "pojedyncza precyzja, suma w przod n= 500 s=  5 1.0369275\n",
      "pojedyncza precyzja, suma w tyl n= 500 s=  5 1.0369277\n",
      "podwojna precyzja, suma w przod n= 500 s=  5 1.0369277551393863\n",
      "podwojna precyzja, suma w tyl n= 500 s=  5 1.0369277551393858\n",
      "pojedyncza precyzja, suma w przod n= 500 s=  7.2 1.0072277\n",
      "pojedyncza precyzja, suma w tyl n= 500 s=  7.2 1.0072277\n",
      "podwojna precyzja, suma w przod n= 500 s=  7.2 1.0072276664807145\n",
      "podwojna precyzja, suma w tyl n= 500 s=  7.2 1.0072276664807172\n",
      "pojedyncza precyzja, suma w przod n= 500 s=  10 1.0009946\n",
      "pojedyncza precyzja, suma w tyl n= 500 s=  10 1.0009946\n",
      "podwojna precyzja, suma w przod n= 500 s=  10 1.0009945751278182\n",
      "podwojna precyzja, suma w tyl n= 500 s=  10 1.000994575127818\n",
      "pojedyncza precyzja, suma w przod n= 1000 s=  2 1.6439348\n",
      "pojedyncza precyzja, suma w tyl n= 1000 s=  2 1.6439345\n",
      "podwojna precyzja, suma w przod n= 1000 s=  2 1.6439345666815615\n",
      "podwojna precyzja, suma w tyl n= 1000 s=  2 1.6439345666815597\n",
      "pojedyncza precyzja, suma w przod n= 1000 s=  3.6667 1.1094086\n",
      "pojedyncza precyzja, suma w tyl n= 1000 s=  3.6667 1.1094105\n",
      "podwojna precyzja, suma w przod n= 1000 s=  3.6667 1.1094105108423578\n",
      "podwojna precyzja, suma w tyl n= 1000 s=  3.6667 1.1094105108423593\n",
      "pojedyncza precyzja, suma w przod n= 1000 s=  5 1.0369275\n",
      "pojedyncza precyzja, suma w tyl n= 1000 s=  5 1.0369277\n",
      "podwojna precyzja, suma w przod n= 1000 s=  5 1.0369277551431222\n",
      "podwojna precyzja, suma w tyl n= 1000 s=  5 1.0369277551431204\n",
      "pojedyncza precyzja, suma w przod n= 1000 s=  7.2 1.0072277\n",
      "pojedyncza precyzja, suma w tyl n= 1000 s=  7.2 1.0072277\n",
      "podwojna precyzja, suma w przod n= 1000 s=  7.2 1.0072276664807145\n",
      "podwojna precyzja, suma w tyl n= 1000 s=  7.2 1.0072276664807172\n",
      "pojedyncza precyzja, suma w przod n= 1000 s=  10 1.0009946\n",
      "pojedyncza precyzja, suma w tyl n= 1000 s=  10 1.0009946\n",
      "podwojna precyzja, suma w przod n= 1000 s=  10 1.0009945751278182\n",
      "podwojna precyzja, suma w tyl n= 1000 s=  10 1.000994575127818\n"
     ]
    }
   ],
   "source": [
    "for n in 50, 100, 200, 500, 1000:\n",
    "    for s in 2, 3.6667, 5, 7.2, 10:\n",
    "        print('pojedyncza precyzja, suma w przod n=',n,'s= ',s,Riemman_function_f(1.0,n,s,False))\n",
    "        print('pojedyncza precyzja, suma w tyl n=',n,'s= ',s,Riemman_function_b(1.0,n,s,False))\n",
    "        print('podwojna precyzja, suma w przod n=',n,'s= ',s,Riemman_function_f(1.0,n,s,True))\n",
    "        print('podwojna precyzja, suma w tyl n=',n,'s= ',s,Riemman_function_b(1.0,n,s,True))"
   ]
  },
  {
   "cell_type": "markdown",
   "metadata": {},
   "source": [
    "Funkcja Dirichleta"
   ]
  },
  {
   "cell_type": "code",
   "execution_count": 155,
   "metadata": {},
   "outputs": [
    {
     "name": "stdout",
     "output_type": "stream",
     "text": [
      "pojedyncza precyzja, suma w przod n= 50 s=  2 0.822271\n",
      "pojedyncza precyzja, suma w tyl n= 50 s=  2 0.82227105\n",
      "podwojna precyzja, suma w przod n= 50 s=  2 0.8222710318260295\n",
      "podwojna precyzja, suma w tyl n= 50 s=  2 0.8222710318260289\n",
      "pojedyncza precyzja, suma w przod n= 50 s=  3.6667 0.9346931\n",
      "pojedyncza precyzja, suma w tyl n= 50 s=  3.6667 0.93469304\n",
      "podwojna precyzja, suma w przod n= 50 s=  3.6667 0.9346930600307106\n",
      "podwojna precyzja, suma w tyl n= 50 s=  3.6667 0.934693060030711\n",
      "pojedyncza precyzja, suma w przod n= 50 s=  5 0.9721198\n",
      "pojedyncza precyzja, suma w tyl n= 50 s=  5 0.97211975\n",
      "podwojna precyzja, suma w przod n= 50 s=  5 0.9721197689267979\n",
      "podwojna precyzja, suma w tyl n= 50 s=  5 0.9721197689267976\n",
      "pojedyncza precyzja, suma w przod n= 50 s=  7.2 0.99352705\n",
      "pojedyncza precyzja, suma w tyl n= 50 s=  7.2 0.993527\n",
      "podwojna precyzja, suma w przod n= 50 s=  7.2 0.9935270006613486\n",
      "podwojna precyzja, suma w tyl n= 50 s=  7.2 0.9935270006613481\n",
      "pojedyncza precyzja, suma w przod n= 50 s=  10 0.99903953\n",
      "pojedyncza precyzja, suma w tyl n= 50 s=  10 0.99903953\n",
      "podwojna precyzja, suma w przod n= 50 s=  10 0.9990395075982718\n",
      "podwojna precyzja, suma w tyl n= 50 s=  10 0.9990395075982715\n",
      "pojedyncza precyzja, suma w przod n= 100 s=  2 0.8224175\n",
      "pojedyncza precyzja, suma w tyl n= 100 s=  2 0.8224175\n",
      "podwojna precyzja, suma w przod n= 100 s=  2 0.8224175333741286\n",
      "podwojna precyzja, suma w tyl n= 100 s=  2 0.8224175333741282\n",
      "pojedyncza precyzja, suma w przod n= 100 s=  3.6667 0.9346933\n",
      "pojedyncza precyzja, suma w tyl n= 100 s=  3.6667 0.93469334\n",
      "podwojna precyzja, suma w przod n= 100 s=  3.6667 0.9346933211400662\n",
      "podwojna precyzja, suma w tyl n= 100 s=  3.6667 0.934693321140067\n",
      "pojedyncza precyzja, suma w przod n= 100 s=  5 0.9721198\n",
      "pojedyncza precyzja, suma w tyl n= 100 s=  5 0.97211975\n",
      "podwojna precyzja, suma w przod n= 100 s=  5 0.9721197703981592\n",
      "podwojna precyzja, suma w tyl n= 100 s=  5 0.9721197703981589\n",
      "pojedyncza precyzja, suma w przod n= 100 s=  7.2 0.99352705\n",
      "pojedyncza precyzja, suma w tyl n= 100 s=  7.2 0.993527\n",
      "podwojna precyzja, suma w przod n= 100 s=  7.2 0.9935270006616185\n",
      "podwojna precyzja, suma w tyl n= 100 s=  7.2 0.9935270006616179\n",
      "pojedyncza precyzja, suma w przod n= 100 s=  10 0.99903953\n",
      "pojedyncza precyzja, suma w tyl n= 100 s=  10 0.99903953\n",
      "podwojna precyzja, suma w przod n= 100 s=  10 0.9990395075982718\n",
      "podwojna precyzja, suma w tyl n= 100 s=  10 0.9990395075982715\n",
      "pojedyncza precyzja, suma w przod n= 200 s=  2 0.8224547\n",
      "pojedyncza precyzja, suma w tyl n= 200 s=  2 0.8224546\n",
      "podwojna precyzja, suma w przod n= 200 s=  2 0.822454595922551\n",
      "podwojna precyzja, suma w tyl n= 200 s=  2 0.8224545959225509\n",
      "pojedyncza precyzja, suma w przod n= 200 s=  3.6667 0.9346933\n",
      "pojedyncza precyzja, suma w tyl n= 200 s=  3.6667 0.93469334\n",
      "podwojna precyzja, suma w przod n= 200 s=  3.6667 0.9346933421086845\n",
      "podwojna precyzja, suma w tyl n= 200 s=  3.6667 0.9346933421086852\n",
      "pojedyncza precyzja, suma w przod n= 200 s=  5 0.9721198\n",
      "pojedyncza precyzja, suma w tyl n= 200 s=  5 0.97211975\n",
      "podwojna precyzja, suma w przod n= 200 s=  5 0.972119770445367\n",
      "podwojna precyzja, suma w tyl n= 200 s=  5 0.9721197704453663\n",
      "pojedyncza precyzja, suma w przod n= 200 s=  7.2 0.99352705\n",
      "pojedyncza precyzja, suma w tyl n= 200 s=  7.2 0.993527\n",
      "podwojna precyzja, suma w przod n= 200 s=  7.2 0.9935270006616201\n",
      "podwojna precyzja, suma w tyl n= 200 s=  7.2 0.9935270006616198\n",
      "pojedyncza precyzja, suma w przod n= 200 s=  10 0.99903953\n",
      "pojedyncza precyzja, suma w tyl n= 200 s=  10 0.99903953\n",
      "podwojna precyzja, suma w przod n= 200 s=  10 0.9990395075982718\n",
      "podwojna precyzja, suma w tyl n= 200 s=  10 0.9990395075982715\n",
      "pojedyncza precyzja, suma w przod n= 500 s=  2 0.82246536\n",
      "pojedyncza precyzja, suma w tyl n= 500 s=  2 0.82246506\n",
      "podwojna precyzja, suma w przod n= 500 s=  2 0.8224650374240963\n",
      "podwojna precyzja, suma w tyl n= 500 s=  2 0.8224650374240972\n",
      "pojedyncza precyzja, suma w przod n= 500 s=  3.6667 0.9346933\n",
      "pojedyncza precyzja, suma w tyl n= 500 s=  3.6667 0.93469334\n",
      "podwojna precyzja, suma w przod n= 500 s=  3.6667 0.9346933438558745\n",
      "podwojna precyzja, suma w tyl n= 500 s=  3.6667 0.934693343855875\n",
      "pojedyncza precyzja, suma w przod n= 500 s=  5 0.9721198\n",
      "pojedyncza precyzja, suma w tyl n= 500 s=  5 0.97211975\n",
      "podwojna precyzja, suma w przod n= 500 s=  5 0.9721197704468947\n",
      "podwojna precyzja, suma w tyl n= 500 s=  5 0.9721197704468933\n",
      "pojedyncza precyzja, suma w przod n= 500 s=  7.2 0.99352705\n",
      "pojedyncza precyzja, suma w tyl n= 500 s=  7.2 0.993527\n",
      "podwojna precyzja, suma w przod n= 500 s=  7.2 0.9935270006616201\n",
      "podwojna precyzja, suma w tyl n= 500 s=  7.2 0.9935270006616198\n",
      "pojedyncza precyzja, suma w przod n= 500 s=  10 0.99903953\n",
      "pojedyncza precyzja, suma w tyl n= 500 s=  10 0.99903953\n",
      "podwojna precyzja, suma w przod n= 500 s=  10 0.9990395075982718\n",
      "podwojna precyzja, suma w tyl n= 500 s=  10 0.9990395075982715\n",
      "pojedyncza precyzja, suma w przod n= 1000 s=  2 0.82246685\n",
      "pojedyncza precyzja, suma w tyl n= 1000 s=  2 0.82246655\n",
      "podwojna precyzja, suma w przod n= 1000 s=  2 0.8224665339241114\n",
      "podwojna precyzja, suma w tyl n= 1000 s=  2 0.8224665339241127\n",
      "pojedyncza precyzja, suma w przod n= 1000 s=  3.6667 0.9346933\n",
      "pojedyncza precyzja, suma w tyl n= 1000 s=  3.6667 0.93469334\n",
      "podwojna precyzja, suma w przod n= 1000 s=  3.6667 0.9346933439141353\n",
      "podwojna precyzja, suma w tyl n= 1000 s=  3.6667 0.9346933439141354\n",
      "pojedyncza precyzja, suma w przod n= 1000 s=  5 0.9721198\n",
      "pojedyncza precyzja, suma w tyl n= 1000 s=  5 0.97211975\n",
      "podwojna precyzja, suma w przod n= 1000 s=  5 0.9721197704469091\n",
      "podwojna precyzja, suma w tyl n= 1000 s=  5 0.9721197704469088\n",
      "pojedyncza precyzja, suma w przod n= 1000 s=  7.2 0.99352705\n",
      "pojedyncza precyzja, suma w tyl n= 1000 s=  7.2 0.993527\n",
      "podwojna precyzja, suma w przod n= 1000 s=  7.2 0.9935270006616201\n",
      "podwojna precyzja, suma w tyl n= 1000 s=  7.2 0.9935270006616198\n",
      "pojedyncza precyzja, suma w przod n= 1000 s=  10 0.99903953\n",
      "pojedyncza precyzja, suma w tyl n= 1000 s=  10 0.99903953\n",
      "podwojna precyzja, suma w przod n= 1000 s=  10 0.9990395075982718\n",
      "podwojna precyzja, suma w tyl n= 1000 s=  10 0.9990395075982715\n"
     ]
    }
   ],
   "source": [
    "for n in 50, 100, 200, 500, 1000:\n",
    "    for s in 2, 3.6667, 5, 7.2, 10:\n",
    "        print('pojedyncza precyzja, suma w przod n=',n,'s= ',s,Dirichlet_function_f(1.0,n,s,False))\n",
    "        print('pojedyncza precyzja, suma w tyl n=',n,'s= ',s,Dirichlet_function_b(1.0,n,s,False))\n",
    "        print('podwojna precyzja, suma w przod n=',n,'s= ',s,Dirichlet_function_f(1.0,n,s,True))\n",
    "        print('podwojna precyzja, suma w tyl n=',n,'s= ',s,Dirichlet_function_b(1.0,n,s,True))"
   ]
  },
  {
   "cell_type": "markdown",
   "metadata": {},
   "source": [
    "Sumując od n do 1 dodajemy najpierw małe wartości, przez co nie tracimy bitów na dodawaniu małej liczby do dużej(tak jak w zadaniu 1). Powoduje to większą dokładność. Dodając od 1 do n, nasza suma rośnie bardzo szybko na początku, przez co tracimy dokładność przy dodawaniu kolejnych, coraz mniejszych składników. Różnice wyników między dokładnością pojedynczą i podwójną nie są duże i wynikają głównie z zaokrągleń."
   ]
  }
 ],
 "metadata": {
  "kernelspec": {
   "display_name": "Python 3",
   "language": "python",
   "name": "python3"
  },
  "language_info": {
   "codemirror_mode": {
    "name": "ipython",
    "version": 3
   },
   "file_extension": ".py",
   "mimetype": "text/x-python",
   "name": "python",
   "nbconvert_exporter": "python",
   "pygments_lexer": "ipython3",
   "version": "3.7.3"
  }
 },
 "nbformat": 4,
 "nbformat_minor": 2
}
